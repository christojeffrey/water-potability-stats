{
 "cells": [
  {
   "cell_type": "markdown",
   "metadata": {},
   "source": [
    "# Preparations"
   ]
  },
  {
   "cell_type": "code",
   "execution_count": 3,
   "metadata": {},
   "outputs": [],
   "source": [
    "import warnings\n",
    "warnings.filterwarnings('ignore')"
   ]
  },
  {
   "cell_type": "code",
   "execution_count": 2,
   "metadata": {},
   "outputs": [],
   "source": [
    "import pandas as pd\n",
    "import numpy as np\n",
    "import seaborn as sns \n",
    "import matplotlib.pyplot as plt\n",
    "\n",
    "sns.set_theme(style=\"whitegrid\", palette=\"tab10\")"
   ]
  },
  {
   "cell_type": "code",
   "execution_count": 23,
   "metadata": {},
   "outputs": [],
   "source": [
    "import scipy.stats as st"
   ]
  },
  {
   "cell_type": "markdown",
   "metadata": {},
   "source": [
    "## Load Dataset"
   ]
  },
  {
   "cell_type": "code",
   "execution_count": 4,
   "metadata": {},
   "outputs": [
    {
     "data": {
      "text/html": [
       "<div>\n",
       "<style scoped>\n",
       "    .dataframe tbody tr th:only-of-type {\n",
       "        vertical-align: middle;\n",
       "    }\n",
       "\n",
       "    .dataframe tbody tr th {\n",
       "        vertical-align: top;\n",
       "    }\n",
       "\n",
       "    .dataframe thead th {\n",
       "        text-align: right;\n",
       "    }\n",
       "</style>\n",
       "<table border=\"1\" class=\"dataframe\">\n",
       "  <thead>\n",
       "    <tr style=\"text-align: right;\">\n",
       "      <th></th>\n",
       "      <th>id</th>\n",
       "      <th>ph</th>\n",
       "      <th>hardness</th>\n",
       "      <th>solids</th>\n",
       "      <th>chloramines</th>\n",
       "      <th>sulfate</th>\n",
       "      <th>conductivity</th>\n",
       "      <th>organiccarbon</th>\n",
       "      <th>trihalomethanes</th>\n",
       "      <th>turbidity</th>\n",
       "      <th>potability</th>\n",
       "    </tr>\n",
       "  </thead>\n",
       "  <tbody>\n",
       "    <tr>\n",
       "      <th>0</th>\n",
       "      <td>1</td>\n",
       "      <td>8.316766</td>\n",
       "      <td>214.373394</td>\n",
       "      <td>22018.417441</td>\n",
       "      <td>8.059332</td>\n",
       "      <td>356.886136</td>\n",
       "      <td>363.266516</td>\n",
       "      <td>18.436524</td>\n",
       "      <td>100.341674</td>\n",
       "      <td>4.628771</td>\n",
       "      <td>0</td>\n",
       "    </tr>\n",
       "    <tr>\n",
       "      <th>1</th>\n",
       "      <td>2</td>\n",
       "      <td>9.092223</td>\n",
       "      <td>181.101509</td>\n",
       "      <td>17978.986339</td>\n",
       "      <td>6.546600</td>\n",
       "      <td>310.135738</td>\n",
       "      <td>398.410813</td>\n",
       "      <td>11.558279</td>\n",
       "      <td>31.997993</td>\n",
       "      <td>4.075075</td>\n",
       "      <td>0</td>\n",
       "    </tr>\n",
       "    <tr>\n",
       "      <th>2</th>\n",
       "      <td>3</td>\n",
       "      <td>5.584087</td>\n",
       "      <td>188.313324</td>\n",
       "      <td>28748.687739</td>\n",
       "      <td>7.544869</td>\n",
       "      <td>326.678363</td>\n",
       "      <td>280.467916</td>\n",
       "      <td>8.399735</td>\n",
       "      <td>54.917862</td>\n",
       "      <td>2.559708</td>\n",
       "      <td>0</td>\n",
       "    </tr>\n",
       "    <tr>\n",
       "      <th>3</th>\n",
       "      <td>4</td>\n",
       "      <td>10.223862</td>\n",
       "      <td>248.071735</td>\n",
       "      <td>28749.716544</td>\n",
       "      <td>7.513408</td>\n",
       "      <td>393.663396</td>\n",
       "      <td>283.651634</td>\n",
       "      <td>13.789695</td>\n",
       "      <td>84.603556</td>\n",
       "      <td>2.672989</td>\n",
       "      <td>0</td>\n",
       "    </tr>\n",
       "    <tr>\n",
       "      <th>4</th>\n",
       "      <td>5</td>\n",
       "      <td>8.635849</td>\n",
       "      <td>203.361523</td>\n",
       "      <td>13672.091764</td>\n",
       "      <td>4.563009</td>\n",
       "      <td>303.309771</td>\n",
       "      <td>474.607645</td>\n",
       "      <td>12.363817</td>\n",
       "      <td>62.798309</td>\n",
       "      <td>4.401425</td>\n",
       "      <td>0</td>\n",
       "    </tr>\n",
       "  </tbody>\n",
       "</table>\n",
       "</div>"
      ],
      "text/plain": [
       "   id         ph    hardness        solids  chloramines     sulfate  \\\n",
       "0   1   8.316766  214.373394  22018.417441     8.059332  356.886136   \n",
       "1   2   9.092223  181.101509  17978.986339     6.546600  310.135738   \n",
       "2   3   5.584087  188.313324  28748.687739     7.544869  326.678363   \n",
       "3   4  10.223862  248.071735  28749.716544     7.513408  393.663396   \n",
       "4   5   8.635849  203.361523  13672.091764     4.563009  303.309771   \n",
       "\n",
       "   conductivity  organiccarbon  trihalomethanes  turbidity  potability  \n",
       "0    363.266516      18.436524       100.341674   4.628771           0  \n",
       "1    398.410813      11.558279        31.997993   4.075075           0  \n",
       "2    280.467916       8.399735        54.917862   2.559708           0  \n",
       "3    283.651634      13.789695        84.603556   2.672989           0  \n",
       "4    474.607645      12.363817        62.798309   4.401425           0  "
      ]
     },
     "execution_count": 4,
     "metadata": {},
     "output_type": "execute_result"
    }
   ],
   "source": [
    "df = pd.read_csv('water_potability.csv', header=None)\n",
    "df.columns = [\"id\", \"pH\", \"Hardness\", \"Solids\", \"Chloramines\", \"Sulfate\", \"Conductivity\", \"OrganicCarbon\", \"Trihalomethanes\", \"Turbidity\", \"Potability\"]\n",
    "df.columns = [s.lower() for s in df.columns]\n",
    "df.head()"
   ]
  },
  {
   "cell_type": "markdown",
   "metadata": {},
   "source": [
    "## Descriptive Statistics - 1"
   ]
  },
  {
   "cell_type": "markdown",
   "metadata": {},
   "source": [
    "Pada bagian ini, perhatikan bahwa std dan variance dihitung dari pandas. Maka, rumusnya adalah rumus std dan varians untuk populasi. Jika ingin menghitung std/varians sampel, harus dilakukan terlebih dahulu perkalian n/(n-1) pada varians. Namun, karena n = 2010, sehingga n/(n-1) mendekati 1, hasil dari pandas sudah dapat mewakili std/varians sampel. \n",
    "\n",
    "Dengan kata lain,\n",
    "$$ \\sigma \\approx s $$\n",
    "dan rasio n/(n-1) tidak lagi signifikan."
   ]
  },
  {
   "cell_type": "code",
   "execution_count": 5,
   "metadata": {},
   "outputs": [
    {
     "data": {
      "text/plain": [
       "id                   int64\n",
       "ph                 float64\n",
       "hardness           float64\n",
       "solids             float64\n",
       "chloramines        float64\n",
       "sulfate            float64\n",
       "conductivity       float64\n",
       "organiccarbon      float64\n",
       "trihalomethanes    float64\n",
       "turbidity          float64\n",
       "potability          object\n",
       "dtype: object"
      ]
     },
     "execution_count": 5,
     "metadata": {},
     "output_type": "execute_result"
    }
   ],
   "source": [
    "df.potability = df.potability.astype('object') # Karena kategorikal, diganti saja. tujuannya biar gk muncul waktu di describe\n",
    "df.dtypes"
   ]
  },
  {
   "cell_type": "code",
   "execution_count": 6,
   "metadata": {},
   "outputs": [],
   "source": [
    "from scipy import stats\n",
    "from scipy.optimize import minimize\n",
    "\n",
    "# MASI BELUM SOLVED\n",
    "def get_continuous_mode(col):\n",
    "    params = stats.norm.fit(df[col])\n",
    "    def density(x):\n",
    "        return -stats.norm.pdf(x,*params)\n",
    "\n",
    "    return minimize(density, 0).x[0]"
   ]
  },
  {
   "cell_type": "code",
   "execution_count": 7,
   "metadata": {},
   "outputs": [],
   "source": [
    "desc = df.describe()[df.columns[1:-1]].T\n",
    "desc[\"range\"] = desc[\"max\"] - desc[\"min\"]\n",
    "desc[\"IQR\"] = desc[\"75%\"] - desc[\"25%\"]\n",
    "desc[\"var\"] = desc.apply(lambda x: df[x.name].var(), axis=1)\n",
    "desc[\"skew\"] = desc.apply(lambda x: df[x.name].skew(), axis=1)\n",
    "desc[\"kurtosis\"] = desc.apply(lambda x: df[x.name].kurt(), axis=1)\n",
    "desc[\"median\"] = desc.apply(lambda x: df[x.name].median(), axis=1)\n",
    "\n",
    "# modes = [get_continuous_mode(col) for col in df.columns[1:-1]]\n",
    "# modes.append(df['potability'].mode()[0])\n",
    "# desc[\"modus\"] = modes"
   ]
  },
  {
   "cell_type": "code",
   "execution_count": 8,
   "metadata": {},
   "outputs": [
    {
     "data": {
      "text/html": [
       "<div>\n",
       "<style scoped>\n",
       "    .dataframe tbody tr th:only-of-type {\n",
       "        vertical-align: middle;\n",
       "    }\n",
       "\n",
       "    .dataframe tbody tr th {\n",
       "        vertical-align: top;\n",
       "    }\n",
       "\n",
       "    .dataframe thead th {\n",
       "        text-align: right;\n",
       "    }\n",
       "</style>\n",
       "<table border=\"1\" class=\"dataframe\">\n",
       "  <thead>\n",
       "    <tr style=\"text-align: right;\">\n",
       "      <th></th>\n",
       "      <th>mean</th>\n",
       "      <th>median</th>\n",
       "      <th>std</th>\n",
       "      <th>var</th>\n",
       "      <th>range</th>\n",
       "      <th>min</th>\n",
       "      <th>max</th>\n",
       "      <th>Q1</th>\n",
       "      <th>Q2</th>\n",
       "      <th>Q3</th>\n",
       "      <th>IQR</th>\n",
       "      <th>skew</th>\n",
       "      <th>kurtosis</th>\n",
       "    </tr>\n",
       "  </thead>\n",
       "  <tbody>\n",
       "    <tr>\n",
       "      <th>ph</th>\n",
       "      <td>7.087193</td>\n",
       "      <td>7.029490</td>\n",
       "      <td>1.572803</td>\n",
       "      <td>2.473709e+00</td>\n",
       "      <td>13.772501</td>\n",
       "      <td>0.227499</td>\n",
       "      <td>14.000000</td>\n",
       "      <td>6.090785</td>\n",
       "      <td>7.029490</td>\n",
       "      <td>8.053006</td>\n",
       "      <td>1.962221</td>\n",
       "      <td>0.048535</td>\n",
       "      <td>0.626904</td>\n",
       "    </tr>\n",
       "    <tr>\n",
       "      <th>hardness</th>\n",
       "      <td>195.969209</td>\n",
       "      <td>197.203525</td>\n",
       "      <td>32.643166</td>\n",
       "      <td>1.065576e+03</td>\n",
       "      <td>243.845890</td>\n",
       "      <td>73.492234</td>\n",
       "      <td>317.338124</td>\n",
       "      <td>176.740657</td>\n",
       "      <td>197.203525</td>\n",
       "      <td>216.447589</td>\n",
       "      <td>39.706932</td>\n",
       "      <td>-0.085321</td>\n",
       "      <td>0.525480</td>\n",
       "    </tr>\n",
       "    <tr>\n",
       "      <th>solids</th>\n",
       "      <td>21904.673439</td>\n",
       "      <td>20926.882155</td>\n",
       "      <td>8625.397911</td>\n",
       "      <td>7.439749e+07</td>\n",
       "      <td>56167.729801</td>\n",
       "      <td>320.942611</td>\n",
       "      <td>56488.672413</td>\n",
       "      <td>15614.412962</td>\n",
       "      <td>20926.882155</td>\n",
       "      <td>27170.534649</td>\n",
       "      <td>11556.121687</td>\n",
       "      <td>0.591011</td>\n",
       "      <td>0.337320</td>\n",
       "    </tr>\n",
       "    <tr>\n",
       "      <th>chloramines</th>\n",
       "      <td>7.134322</td>\n",
       "      <td>7.142014</td>\n",
       "      <td>1.585214</td>\n",
       "      <td>2.512904e+00</td>\n",
       "      <td>11.736129</td>\n",
       "      <td>1.390871</td>\n",
       "      <td>13.127000</td>\n",
       "      <td>6.138326</td>\n",
       "      <td>7.142014</td>\n",
       "      <td>8.109933</td>\n",
       "      <td>1.971607</td>\n",
       "      <td>0.013003</td>\n",
       "      <td>0.549782</td>\n",
       "    </tr>\n",
       "    <tr>\n",
       "      <th>sulfate</th>\n",
       "      <td>333.211376</td>\n",
       "      <td>332.214113</td>\n",
       "      <td>41.211111</td>\n",
       "      <td>1.698356e+03</td>\n",
       "      <td>352.030642</td>\n",
       "      <td>129.000000</td>\n",
       "      <td>481.030642</td>\n",
       "      <td>307.626986</td>\n",
       "      <td>332.214113</td>\n",
       "      <td>359.268147</td>\n",
       "      <td>51.641161</td>\n",
       "      <td>-0.045728</td>\n",
       "      <td>0.786854</td>\n",
       "    </tr>\n",
       "    <tr>\n",
       "      <th>conductivity</th>\n",
       "      <td>426.476708</td>\n",
       "      <td>423.438372</td>\n",
       "      <td>80.701872</td>\n",
       "      <td>6.512792e+03</td>\n",
       "      <td>551.722883</td>\n",
       "      <td>201.619737</td>\n",
       "      <td>753.342620</td>\n",
       "      <td>366.619219</td>\n",
       "      <td>423.438372</td>\n",
       "      <td>482.209772</td>\n",
       "      <td>115.590553</td>\n",
       "      <td>0.268012</td>\n",
       "      <td>-0.237206</td>\n",
       "    </tr>\n",
       "    <tr>\n",
       "      <th>organiccarbon</th>\n",
       "      <td>14.357940</td>\n",
       "      <td>14.323286</td>\n",
       "      <td>3.325770</td>\n",
       "      <td>1.106075e+01</td>\n",
       "      <td>24.806707</td>\n",
       "      <td>2.200000</td>\n",
       "      <td>27.006707</td>\n",
       "      <td>12.122530</td>\n",
       "      <td>14.323286</td>\n",
       "      <td>16.683562</td>\n",
       "      <td>4.561031</td>\n",
       "      <td>-0.020220</td>\n",
       "      <td>0.031018</td>\n",
       "    </tr>\n",
       "    <tr>\n",
       "      <th>trihalomethanes</th>\n",
       "      <td>66.400717</td>\n",
       "      <td>66.482041</td>\n",
       "      <td>16.081109</td>\n",
       "      <td>2.586021e+02</td>\n",
       "      <td>115.422987</td>\n",
       "      <td>8.577013</td>\n",
       "      <td>124.000000</td>\n",
       "      <td>55.949993</td>\n",
       "      <td>66.482041</td>\n",
       "      <td>77.294613</td>\n",
       "      <td>21.344620</td>\n",
       "      <td>-0.051383</td>\n",
       "      <td>0.223017</td>\n",
       "    </tr>\n",
       "    <tr>\n",
       "      <th>turbidity</th>\n",
       "      <td>3.969497</td>\n",
       "      <td>3.967374</td>\n",
       "      <td>0.780471</td>\n",
       "      <td>6.091350e-01</td>\n",
       "      <td>5.044749</td>\n",
       "      <td>1.450000</td>\n",
       "      <td>6.494749</td>\n",
       "      <td>3.442882</td>\n",
       "      <td>3.967374</td>\n",
       "      <td>4.514663</td>\n",
       "      <td>1.071781</td>\n",
       "      <td>-0.032266</td>\n",
       "      <td>-0.049831</td>\n",
       "    </tr>\n",
       "  </tbody>\n",
       "</table>\n",
       "</div>"
      ],
      "text/plain": [
       "                         mean        median          std           var  \\\n",
       "ph                   7.087193      7.029490     1.572803  2.473709e+00   \n",
       "hardness           195.969209    197.203525    32.643166  1.065576e+03   \n",
       "solids           21904.673439  20926.882155  8625.397911  7.439749e+07   \n",
       "chloramines          7.134322      7.142014     1.585214  2.512904e+00   \n",
       "sulfate            333.211376    332.214113    41.211111  1.698356e+03   \n",
       "conductivity       426.476708    423.438372    80.701872  6.512792e+03   \n",
       "organiccarbon       14.357940     14.323286     3.325770  1.106075e+01   \n",
       "trihalomethanes     66.400717     66.482041    16.081109  2.586021e+02   \n",
       "turbidity            3.969497      3.967374     0.780471  6.091350e-01   \n",
       "\n",
       "                        range         min           max            Q1  \\\n",
       "ph                  13.772501    0.227499     14.000000      6.090785   \n",
       "hardness           243.845890   73.492234    317.338124    176.740657   \n",
       "solids           56167.729801  320.942611  56488.672413  15614.412962   \n",
       "chloramines         11.736129    1.390871     13.127000      6.138326   \n",
       "sulfate            352.030642  129.000000    481.030642    307.626986   \n",
       "conductivity       551.722883  201.619737    753.342620    366.619219   \n",
       "organiccarbon       24.806707    2.200000     27.006707     12.122530   \n",
       "trihalomethanes    115.422987    8.577013    124.000000     55.949993   \n",
       "turbidity            5.044749    1.450000      6.494749      3.442882   \n",
       "\n",
       "                           Q2            Q3           IQR      skew  kurtosis  \n",
       "ph                   7.029490      8.053006      1.962221  0.048535  0.626904  \n",
       "hardness           197.203525    216.447589     39.706932 -0.085321  0.525480  \n",
       "solids           20926.882155  27170.534649  11556.121687  0.591011  0.337320  \n",
       "chloramines          7.142014      8.109933      1.971607  0.013003  0.549782  \n",
       "sulfate            332.214113    359.268147     51.641161 -0.045728  0.786854  \n",
       "conductivity       423.438372    482.209772    115.590553  0.268012 -0.237206  \n",
       "organiccarbon       14.323286     16.683562      4.561031 -0.020220  0.031018  \n",
       "trihalomethanes     66.482041     77.294613     21.344620 -0.051383  0.223017  \n",
       "turbidity            3.967374      4.514663      1.071781 -0.032266 -0.049831  "
      ]
     },
     "execution_count": 8,
     "metadata": {},
     "output_type": "execute_result"
    }
   ],
   "source": [
    "desc = desc[[\"mean\", \"median\", \"std\", \"var\", \"range\", \"min\", \"max\", \"25%\", \"50%\", \"75%\", \"IQR\", \"skew\", \"kurtosis\"]]\n",
    "desc.rename(columns={\"25%\" : \"Q1\", \"50%\" : \"Q2\", \"75%\" : \"Q3\"}, inplace=True)\n",
    "desc"
   ]
  },
  {
   "cell_type": "code",
   "execution_count": 9,
   "metadata": {},
   "outputs": [
    {
     "name": "stdout",
     "output_type": "stream",
     "text": [
      "Modus potability = 0\n"
     ]
    }
   ],
   "source": [
    "print(\"Modus potability =\", df.potability.mode()[0])"
   ]
  },
  {
   "cell_type": "code",
   "execution_count": 10,
   "metadata": {},
   "outputs": [
    {
     "data": {
      "text/html": [
       "<div>\n",
       "<style scoped>\n",
       "    .dataframe tbody tr th:only-of-type {\n",
       "        vertical-align: middle;\n",
       "    }\n",
       "\n",
       "    .dataframe tbody tr th {\n",
       "        vertical-align: top;\n",
       "    }\n",
       "\n",
       "    .dataframe thead th {\n",
       "        text-align: right;\n",
       "    }\n",
       "</style>\n",
       "<table border=\"1\" class=\"dataframe\">\n",
       "  <thead>\n",
       "    <tr style=\"text-align: right;\">\n",
       "      <th></th>\n",
       "      <th>id</th>\n",
       "      <th>ph</th>\n",
       "      <th>hardness</th>\n",
       "      <th>solids</th>\n",
       "      <th>chloramines</th>\n",
       "      <th>sulfate</th>\n",
       "      <th>conductivity</th>\n",
       "      <th>organiccarbon</th>\n",
       "      <th>trihalomethanes</th>\n",
       "      <th>turbidity</th>\n",
       "      <th>potability</th>\n",
       "    </tr>\n",
       "  </thead>\n",
       "  <tbody>\n",
       "    <tr>\n",
       "      <th>0</th>\n",
       "      <td>1</td>\n",
       "      <td>0.227499</td>\n",
       "      <td>73.492234</td>\n",
       "      <td>320.942611</td>\n",
       "      <td>1.390871</td>\n",
       "      <td>129.000000</td>\n",
       "      <td>201.619737</td>\n",
       "      <td>2.200000</td>\n",
       "      <td>8.577013</td>\n",
       "      <td>1.450000</td>\n",
       "      <td>0</td>\n",
       "    </tr>\n",
       "    <tr>\n",
       "      <th>1</th>\n",
       "      <td>2</td>\n",
       "      <td>0.989912</td>\n",
       "      <td>77.459586</td>\n",
       "      <td>1198.943699</td>\n",
       "      <td>1.920271</td>\n",
       "      <td>180.206746</td>\n",
       "      <td>210.319182</td>\n",
       "      <td>4.371899</td>\n",
       "      <td>14.343161</td>\n",
       "      <td>1.492207</td>\n",
       "      <td>NaN</td>\n",
       "    </tr>\n",
       "    <tr>\n",
       "      <th>2</th>\n",
       "      <td>3</td>\n",
       "      <td>1.431782</td>\n",
       "      <td>81.710895</td>\n",
       "      <td>1351.906979</td>\n",
       "      <td>2.397985</td>\n",
       "      <td>182.397370</td>\n",
       "      <td>233.907965</td>\n",
       "      <td>4.466772</td>\n",
       "      <td>15.684877</td>\n",
       "      <td>1.496101</td>\n",
       "      <td>NaN</td>\n",
       "    </tr>\n",
       "    <tr>\n",
       "      <th>3</th>\n",
       "      <td>4</td>\n",
       "      <td>1.757037</td>\n",
       "      <td>94.091307</td>\n",
       "      <td>1372.091043</td>\n",
       "      <td>2.456014</td>\n",
       "      <td>187.170714</td>\n",
       "      <td>245.859632</td>\n",
       "      <td>4.861631</td>\n",
       "      <td>16.291505</td>\n",
       "      <td>1.680554</td>\n",
       "      <td>NaN</td>\n",
       "    </tr>\n",
       "    <tr>\n",
       "      <th>4</th>\n",
       "      <td>5</td>\n",
       "      <td>1.985383</td>\n",
       "      <td>94.812545</td>\n",
       "      <td>2552.962804</td>\n",
       "      <td>2.458609</td>\n",
       "      <td>187.424131</td>\n",
       "      <td>252.968328</td>\n",
       "      <td>4.966862</td>\n",
       "      <td>17.527765</td>\n",
       "      <td>1.812529</td>\n",
       "      <td>NaN</td>\n",
       "    </tr>\n",
       "    <tr>\n",
       "      <th>...</th>\n",
       "      <td>...</td>\n",
       "      <td>...</td>\n",
       "      <td>...</td>\n",
       "      <td>...</td>\n",
       "      <td>...</td>\n",
       "      <td>...</td>\n",
       "      <td>...</td>\n",
       "      <td>...</td>\n",
       "      <td>...</td>\n",
       "      <td>...</td>\n",
       "      <td>...</td>\n",
       "    </tr>\n",
       "    <tr>\n",
       "      <th>2005</th>\n",
       "      <td>2006</td>\n",
       "      <td>11.568768</td>\n",
       "      <td>286.567991</td>\n",
       "      <td>50793.898917</td>\n",
       "      <td>12.580026</td>\n",
       "      <td>458.441072</td>\n",
       "      <td>666.690618</td>\n",
       "      <td>23.569645</td>\n",
       "      <td>114.034946</td>\n",
       "      <td>6.307678</td>\n",
       "      <td>NaN</td>\n",
       "    </tr>\n",
       "    <tr>\n",
       "      <th>2006</th>\n",
       "      <td>2007</td>\n",
       "      <td>11.898078</td>\n",
       "      <td>287.975540</td>\n",
       "      <td>53735.899194</td>\n",
       "      <td>12.626900</td>\n",
       "      <td>460.107069</td>\n",
       "      <td>669.725086</td>\n",
       "      <td>23.604298</td>\n",
       "      <td>114.208671</td>\n",
       "      <td>6.357439</td>\n",
       "      <td>NaN</td>\n",
       "    </tr>\n",
       "    <tr>\n",
       "      <th>2007</th>\n",
       "      <td>2008</td>\n",
       "      <td>12.246928</td>\n",
       "      <td>300.292476</td>\n",
       "      <td>55334.702799</td>\n",
       "      <td>12.653362</td>\n",
       "      <td>475.737460</td>\n",
       "      <td>695.369528</td>\n",
       "      <td>23.917601</td>\n",
       "      <td>116.161622</td>\n",
       "      <td>6.389161</td>\n",
       "      <td>NaN</td>\n",
       "    </tr>\n",
       "    <tr>\n",
       "      <th>2008</th>\n",
       "      <td>2009</td>\n",
       "      <td>13.349889</td>\n",
       "      <td>306.627481</td>\n",
       "      <td>56351.396304</td>\n",
       "      <td>13.043806</td>\n",
       "      <td>476.539717</td>\n",
       "      <td>708.226364</td>\n",
       "      <td>24.755392</td>\n",
       "      <td>120.030077</td>\n",
       "      <td>6.494249</td>\n",
       "      <td>NaN</td>\n",
       "    </tr>\n",
       "    <tr>\n",
       "      <th>2009</th>\n",
       "      <td>2010</td>\n",
       "      <td>14.000000</td>\n",
       "      <td>317.338124</td>\n",
       "      <td>56488.672413</td>\n",
       "      <td>13.127000</td>\n",
       "      <td>481.030642</td>\n",
       "      <td>753.342620</td>\n",
       "      <td>27.006707</td>\n",
       "      <td>124.000000</td>\n",
       "      <td>6.494749</td>\n",
       "      <td>NaN</td>\n",
       "    </tr>\n",
       "  </tbody>\n",
       "</table>\n",
       "<p>2010 rows × 11 columns</p>\n",
       "</div>"
      ],
      "text/plain": [
       "        id         ph    hardness        solids  chloramines     sulfate  \\\n",
       "0        1   0.227499   73.492234    320.942611     1.390871  129.000000   \n",
       "1        2   0.989912   77.459586   1198.943699     1.920271  180.206746   \n",
       "2        3   1.431782   81.710895   1351.906979     2.397985  182.397370   \n",
       "3        4   1.757037   94.091307   1372.091043     2.456014  187.170714   \n",
       "4        5   1.985383   94.812545   2552.962804     2.458609  187.424131   \n",
       "...    ...        ...         ...           ...          ...         ...   \n",
       "2005  2006  11.568768  286.567991  50793.898917    12.580026  458.441072   \n",
       "2006  2007  11.898078  287.975540  53735.899194    12.626900  460.107069   \n",
       "2007  2008  12.246928  300.292476  55334.702799    12.653362  475.737460   \n",
       "2008  2009  13.349889  306.627481  56351.396304    13.043806  476.539717   \n",
       "2009  2010  14.000000  317.338124  56488.672413    13.127000  481.030642   \n",
       "\n",
       "      conductivity  organiccarbon  trihalomethanes  turbidity potability  \n",
       "0       201.619737       2.200000         8.577013   1.450000          0  \n",
       "1       210.319182       4.371899        14.343161   1.492207        NaN  \n",
       "2       233.907965       4.466772        15.684877   1.496101        NaN  \n",
       "3       245.859632       4.861631        16.291505   1.680554        NaN  \n",
       "4       252.968328       4.966862        17.527765   1.812529        NaN  \n",
       "...            ...            ...              ...        ...        ...  \n",
       "2005    666.690618      23.569645       114.034946   6.307678        NaN  \n",
       "2006    669.725086      23.604298       114.208671   6.357439        NaN  \n",
       "2007    695.369528      23.917601       116.161622   6.389161        NaN  \n",
       "2008    708.226364      24.755392       120.030077   6.494249        NaN  \n",
       "2009    753.342620      27.006707       124.000000   6.494749        NaN  \n",
       "\n",
       "[2010 rows x 11 columns]"
      ]
     },
     "execution_count": 10,
     "metadata": {},
     "output_type": "execute_result"
    }
   ],
   "source": [
    "# Modus kolom lain\n",
    "df.mode()"
   ]
  },
  {
   "cell_type": "markdown",
   "metadata": {},
   "source": [
    "## Histogram and Boxplot Visualization - 2 & 3"
   ]
  },
  {
   "cell_type": "code",
   "execution_count": 72,
   "metadata": {},
   "outputs": [],
   "source": [
    "def draw_boxplot(data, color, edge_color, ax, is_vertical=True):\n",
    "    bplot = ax.boxplot(notch=True,\n",
    "                        vert=is_vertical, \n",
    "                        patch_artist=True,  \n",
    "                        x=data) \n",
    "\n",
    "    for element in ['boxes', 'whiskers', 'fliers', 'means', 'medians', 'caps']:\n",
    "        plt.setp(bplot[element], color=edge_color)\n",
    "\n",
    "    for patch in bplot['boxes']:\n",
    "        patch.set_facecolor(color)    \n",
    "\n",
    "    return bplot\n",
    "\n",
    "def draw_boxhist(col):\n",
    "    f, ax = plt.subplots(nrows=1, ncols=2, figsize=(8, 5))\n",
    "    f.tight_layout()\n",
    "    draw_boxplot(df[col], \"lightblue\", \"blue\", ax[0])\n",
    "    sns.histplot(data=df[col], ax=ax[1], kde=True, fill=False)\n",
    "    plt.show()"
   ]
  },
  {
   "cell_type": "code",
   "execution_count": 73,
   "metadata": {},
   "outputs": [
    {
     "data": {
      "image/png": "[encoded data removed]",
      "text/plain": [
       "<Figure size 576x360 with 2 Axes>"
      ]
     },
     "metadata": {},
     "output_type": "display_data"
    }
   ],
   "source": [
    "draw_boxhist(\"ph\")"
   ]
  },
  {
   "cell_type": "markdown",
   "metadata": {},
   "source": [
    "## Normality Test"
   ]
  },
  {
   "cell_type": "code",
   "execution_count": 59,
   "metadata": {},
   "outputs": [
    {
     "name": "stdout",
     "output_type": "stream",
     "text": [
      "Column ph is not normally distributed\n",
      "Column hardness is not normally distributed\n",
      "Column solids is not normally distributed\n",
      "Column chloramines is not normally distributed\n",
      "Column sulfate is not normally distributed\n",
      "Column conductivity is not normally distributed\n",
      "Column organiccarbon is normally distributed\n",
      "Column trihalomethanes is normally distributed\n",
      "Column turbidity is normally distributed\n"
     ]
    }
   ],
   "source": [
    "from scipy import stats\n",
    "\n",
    "for col in df.columns[1:-1]:\n",
    "    pval = stats.shapiro(df[col]).pvalue\n",
    "    if pval >= 0.05:\n",
    "        print(\"Column\", col, \"is normally distributed\")\n",
    "    else:\n",
    "        print(\"Column\", col, \"is not normally distributed\")\n"
   ]
  },
  {
   "cell_type": "markdown",
   "metadata": {},
   "source": [
    "## Hypothesis 1 Test - 4"
   ]
  },
  {
   "cell_type": "markdown",
   "metadata": {},
   "source": [
    "Pada dataset ini **(khususnya bagian 4A, 4B, dan 4C)**, digunakan t-test untuk melakukan uji hipotesis. T-test digunakan karena **data** yang tertera **merupakan data sampel**, bukan data populasi sehingga sebenarnya **variansi populasi tidak diketahui**. Namun, karena n = 2010 (>= 30) dan dapat dilihat pada bagian sebelumnya bahwa sebagian besar atribut berbentuk *bell-shaped*, maka t-test dapat didekati dengan z-test."
   ]
  },
  {
   "cell_type": "code",
   "execution_count": 25,
   "metadata": {},
   "outputs": [],
   "source": [
    "def compute_t_one(xbar, mu_0, std, n):\n",
    "    return (xbar - mu_0)/(std/np.sqrt(n))"
   ]
  },
  {
   "cell_type": "markdown",
   "metadata": {},
   "source": [
    "### Bagian A: Rata-rata pH di atas 7"
   ]
  },
  {
   "cell_type": "code",
   "execution_count": 78,
   "metadata": {},
   "outputs": [
    {
     "data": {
      "image/png": "[encoded data removed]",
      "text/plain": [
       "<Figure size 432x288 with 1 Axes>"
      ]
     },
     "metadata": {},
     "output_type": "display_data"
    }
   ],
   "source": [
    "draw_boxplot(df[\"ph\"], \"lightblue\", \"blue\", plt.subplot(), False)\n",
    "plt.show()"
   ]
  },
  {
   "cell_type": "markdown",
   "metadata": {},
   "source": [
    "Hipotesis\n",
    "$$ \n",
    "^1H_0: \\mu = 7 \\\\ \\newline\n",
    "^2H_1: \\mu > 7 \\\\ \\newline $$\n",
    "dengan tingkat signifikansi\n",
    "$$ ^3\\alpha = 0.05 \\newline $$\n",
    "dan daerah kritis \n",
    "$$ ^4t > 1.645; \\enspace v = \\infty $$ \n",
    "dengan\n",
    "$$ t = \\frac{\\bar x - \\mu_0}{s/\\sqrt{n}} $$ "
   ]
  },
  {
   "cell_type": "code",
   "execution_count": 26,
   "metadata": {},
   "outputs": [
    {
     "name": "stdout",
     "output_type": "stream",
     "text": [
      "5.a) T-score = 2.485445147379887\n",
      "5.b) P-value = 0.006469476288896492\n"
     ]
    }
   ],
   "source": [
    "mu_0 = 7; n = df.shape[0]\n",
    "\n",
    "std = desc.loc[\"ph\"][\"std\"]\n",
    "xbar = desc.loc[\"ph\"][\"mean\"]\n",
    "tscore = compute_t_one(xbar, mu_0, std, n)\n",
    "\n",
    "print(\"5.a) T-score =\", tscore)\n",
    "print(\"5.b) P-value =\", 1 - st.norm.cdf(tscore))"
   ]
  },
  {
   "cell_type": "markdown",
   "metadata": {},
   "source": [
    "**Kesimpulan**: karena p-value < 0.05 dan t > 1.645, hipotesis nol ditolak."
   ]
  },
  {
   "cell_type": "markdown",
   "metadata": {},
   "source": [
    "### Bagian B: Rata-rata hardness tidak sama dengan 205"
   ]
  },
  {
   "cell_type": "code",
   "execution_count": 79,
   "metadata": {},
   "outputs": [
    {
     "data": {
      "image/png": "[encoded data removed]",
      "text/plain": [
       "<Figure size 432x288 with 1 Axes>"
      ]
     },
     "metadata": {},
     "output_type": "display_data"
    }
   ],
   "source": [
    "draw_boxplot(df[\"hardness\"], \"lightblue\", \"blue\", plt.subplot(), False)\n",
    "plt.show()"
   ]
  },
  {
   "cell_type": "markdown",
   "metadata": {},
   "source": [
    "Hipotesis\n",
    "$$ \n",
    "^1H_0: \\mu = 205 \\\\ \\newline\n",
    "^2H_1: \\mu \\neq 205 \\\\ \\newline \n",
    "$$ \n",
    "dengan tingkat signifikan\n",
    "$$ ^3\\alpha = 0.05 \\newline $$  \n",
    "dan daerah kritisnya adalah\n",
    "$$ ^4t < -1.96 \\enspace or \\enspace t > 1.96; \\enspace v = \\infty $$ \n",
    "dengan\n",
    "$$ t = \\frac{\\bar x - \\mu_0}{s/\\sqrt{n}} $$ "
   ]
  },
  {
   "cell_type": "code",
   "execution_count": 27,
   "metadata": {},
   "outputs": [
    {
     "name": "stdout",
     "output_type": "stream",
     "text": [
      "5.a) T-score = -12.403137170010732\n",
      "5.b) P-value = 0.0\n"
     ]
    }
   ],
   "source": [
    "mu_0 = 205; n = df.shape[0]\n",
    "\n",
    "std = desc.loc[\"hardness\"][\"std\"]\n",
    "xbar = desc.loc[\"hardness\"][\"mean\"]\n",
    "tscore = compute_t_one(xbar, mu_0, std, n)\n",
    "\n",
    "print(\"5.a) T-score =\", tscore)\n",
    "print(\"5.b) P-value =\", np.round(2 * st.norm.cdf(tscore), 2))"
   ]
  },
  {
   "cell_type": "markdown",
   "metadata": {},
   "source": [
    "**Kesimpulan**: karena p-value < 0.05 dan t < -1.96, hipotesis nol ditolak. "
   ]
  },
  {
   "cell_type": "markdown",
   "metadata": {},
   "source": [
    "### Bagian C: Nilai rata-rata 100 baris pertama kolom Solids bukan 21900"
   ]
  },
  {
   "cell_type": "code",
   "execution_count": 80,
   "metadata": {},
   "outputs": [
    {
     "data": {
      "image/png": "[encoded data removed]",
      "text/plain": [
       "<Figure size 432x288 with 1 Axes>"
      ]
     },
     "metadata": {},
     "output_type": "display_data"
    }
   ],
   "source": [
    "draw_boxplot(df[\"solids\"].iloc[:100], \"lightblue\", \"blue\", plt.subplot(), False)\n",
    "plt.show()"
   ]
  },
  {
   "cell_type": "markdown",
   "metadata": {},
   "source": [
    "Hipotesis\n",
    "$$ \n",
    "^1H_0: \\mu = 21900 \\\\ \\newline\n",
    "^2H_1: \\mu \\neq 21900 \\\\ \\newline \n",
    "$$ \n",
    "dengan tingkat signifikan\n",
    "$$ ^3\\alpha = 0.05 \\newline $$  \n",
    "dan daerah kritisnya adalah\n",
    "$$ ^4t < -1.984 \\enspace or \\enspace t > 1.984; \\enspace v = 99 $$ \n",
    "dengan\n",
    "$$ t = \\frac{\\bar x - \\mu_0}{s/\\sqrt{n}} $$ "
   ]
  },
  {
   "cell_type": "code",
   "execution_count": 31,
   "metadata": {},
   "outputs": [
    {
     "name": "stdout",
     "output_type": "stream",
     "text": [
      "5.a) T-score = 0.5636797715721551\n",
      "5.b) P-value = 0.5729720864655174\n"
     ]
    }
   ],
   "source": [
    "mu_0 = 21900; n = 100\n",
    "\n",
    "std = df[\"solids\"].iloc[:100].std()\n",
    "xbar = df[\"solids\"].iloc[:100].mean()\n",
    "tscore = compute_t_one(xbar, mu_0, std, n)\n",
    "\n",
    "print(\"5.a) T-score =\", tscore)\n",
    "print(\"5.b) P-value =\", 2*(1 - st.norm.cdf(tscore)))"
   ]
  },
  {
   "cell_type": "markdown",
   "metadata": {},
   "source": [
    "**Kesimpulan**: Karena p-value > 0.05 dan -1.984 < t < 1.984, hipotesis nol tidak ditolak. "
   ]
  },
  {
   "cell_type": "markdown",
   "metadata": {},
   "source": [
    "### Bagian D: Proporsi nilai Conductivity yang lebih dari 450, adalah tidak sama dengan 10%?"
   ]
  },
  {
   "cell_type": "code",
   "execution_count": 81,
   "metadata": {},
   "outputs": [
    {
     "data": {
      "image/png": "[encoded data removed]",
      "text/plain": [
       "<Figure size 432x288 with 1 Axes>"
      ]
     },
     "metadata": {},
     "output_type": "display_data"
    }
   ],
   "source": [
    "draw_boxplot(df[\"conductivity\"], \"lightblue\", \"blue\", plt.subplot(), False)\n",
    "plt.show()"
   ]
  },
  {
   "cell_type": "markdown",
   "metadata": {},
   "source": [
    "Hipotesis\n",
    "$$ \n",
    "^1H_0: p_0 = 0.1 \\\\ \\newline\n",
    "^2H_1: p_0 \\neq 0.1 \\\\ \\newline \n",
    "$$ \n",
    "dengan tingkat signifikan\n",
    "$$ ^3\\alpha = 0.05 \\newline $$  \n",
    "dan uji statistiknya adalah binomial acak\n",
    "$$ ^4 X $$ \n",
    "serta daerah kritisnya (didekati dengan Z) \n",
    "$$ ^4z < -1.96 \\enspace or \\enspace z > 1.96 $$\n",
    "P-value binomial yang dihitung adalah\n",
    "$$ P = 2P(X \\ge \\enspace 745 \\enspace|\\enspace p = 0.1) $$"
   ]
  },
  {
   "cell_type": "code",
   "execution_count": 17,
   "metadata": {},
   "outputs": [
    {
     "name": "stdout",
     "output_type": "stream",
     "text": [
      "5.a) Z-score = 40.409201153527206\n",
      "5.b) P-value = 0.0\n"
     ]
    }
   ],
   "source": [
    "# Sampel menunjukkan bahwa proporsi yang lebih dari 450 adalah 745\n",
    "x = sum(df.conductivity.apply(lambda x: 1 if x > 450 else 0)) \n",
    "p_0 = 0.1; n = df.shape[0]\n",
    "\n",
    "mu = n*p_0; std = np.sqrt(mu*(1-p_0))\n",
    "zscore = ((x - 0.5) - mu)/std # correction factor\n",
    "\n",
    "# mu = 201, berarti x > np_0(mu)\n",
    "print(\"5.a) Z-score =\", zscore)\n",
    "print(\"5.b) P-value =\", 2*(1 - st.norm.cdf(zscore)))"
   ]
  },
  {
   "cell_type": "markdown",
   "metadata": {},
   "source": [
    "**Kesimpulan**: Karena p-value < 0.05 dan z > 1.96, hipotesis nol ditolak. "
   ]
  },
  {
   "cell_type": "markdown",
   "metadata": {},
   "source": [
    "### Bagian E: Proporsi nilai Trihalomethanes yang kurang dari 40, adalah kurang dari 5%"
   ]
  },
  {
   "cell_type": "code",
   "execution_count": 82,
   "metadata": {},
   "outputs": [
    {
     "data": {
      "image/png": "[encoded data removed]",
      "text/plain": [
       "<Figure size 432x288 with 1 Axes>"
      ]
     },
     "metadata": {},
     "output_type": "display_data"
    }
   ],
   "source": [
    "draw_boxplot(df[\"trihalomethanes\"], \"lightblue\", \"blue\", plt.subplot(), False)\n",
    "plt.show()"
   ]
  },
  {
   "cell_type": "markdown",
   "metadata": {},
   "source": [
    "Hipotesis\n",
    "$$ \n",
    "^1H_0: p_0 = 0.05 \\\\ \\newline\n",
    "^2H_1: p_0 < 0.05 \\\\ \\newline \n",
    "$$ \n",
    "dengan tingkat signifikan\n",
    "$$ ^3\\alpha = 0.05 \\newline $$  \n",
    "dan uji statistiknya adalah binomial acak\n",
    "$$ ^4 X $$ \n",
    "serta daerah kritisnya (didekati dengan Z) \n",
    "$$ ^4z < -1.645 $$\n",
    "\n",
    "P-value binomial yang dihitung adalah\n",
    "$$ P = P(X \\le \\enspace 106 \\enspace | \\enspace p = 0.05) $$"
   ]
  },
  {
   "cell_type": "code",
   "execution_count": 18,
   "metadata": {},
   "outputs": [
    {
     "name": "stdout",
     "output_type": "stream",
     "text": [
      "5.a) Z-score = 0.6140537909095591\n",
      "5.b) P-value = 0.7304101088817901\n"
     ]
    }
   ],
   "source": [
    "# Sampel menunjukkan bahwa proporsi yang kurang dari 40 adalah 106\n",
    "x = sum(df.trihalomethanes.apply(lambda x: 1 if x < 40 else 0))\n",
    "p_0 = 0.05; n = df.shape[0]\n",
    "\n",
    "mu = n*p_0; std = np.sqrt(mu*(1-p_0))\n",
    "zscore = ((x + 0.5) - mu)/std # correction factor\n",
    "\n",
    "print(\"5.a) Z-score =\", zscore)\n",
    "print(\"5.b) P-value =\", st.norm.cdf(zscore))"
   ]
  },
  {
   "cell_type": "markdown",
   "metadata": {},
   "source": [
    "**Kesimpulan**: Karena p-value > 0.05 dan z > -1.645, hipotesis nol tidak ditolak. "
   ]
  },
  {
   "cell_type": "markdown",
   "metadata": {},
   "source": [
    "## Hypothesis 2 Test - 5"
   ]
  },
  {
   "cell_type": "markdown",
   "metadata": {},
   "source": [
    "Pada bagian ini, digunakan t-test dengan asumsi ***unknown but equal variances***. Asumsi ini diambil karena data yang dibandingkan berdasarkan dari sampel yang sama. Maka, pastilah **variansi populasi dari sampel yang sama adalah sama** (juga). Mengapa digunakan t-test? Seperti yang sudah disebutkan pada bagian sebelumnya, karena n = 2010 (>= 30) dan dapat dilihat dari histogram plot bahwa sebagian besar atribut berbentuk *bell-shaped*, maka t-test dapat didekati dengan z-test."
   ]
  },
  {
   "cell_type": "code",
   "execution_count": 32,
   "metadata": {},
   "outputs": [],
   "source": [
    "def compute_t_two(x1, x2, d0, sp, n1, n2):\n",
    "    numer = (x1 - x2) - d0 \n",
    "    denom = sp*(np.sqrt(1/n1 + 1/n2))\n",
    "    return numer/denom\n",
    "\n",
    "def compute_sp(var1, var2, n1, n2):\n",
    "    sp_squared = ((var1)*(n1 - 1) + (var2)*(n2-1))/(n1 + n2 - 2)\n",
    "    return np.sqrt(sp_squared)"
   ]
  },
  {
   "cell_type": "markdown",
   "metadata": {},
   "source": [
    "### Bagian A: Data kolom Sulfate dibagi 2 sama rata: bagian awal dan bagian akhir kolom. Benarkah rata-rata kedua bagian tersebut sama"
   ]
  },
  {
   "cell_type": "code",
   "execution_count": 95,
   "metadata": {},
   "outputs": [
    {
     "data": {
      "image/png": "[encoded data removed]",
      "text/plain": [
       "<Figure size 576x360 with 2 Axes>"
      ]
     },
     "metadata": {},
     "output_type": "display_data"
    }
   ],
   "source": [
    "f, ax = plt.subplots(nrows=1, ncols=2, figsize=(8, 5))\n",
    "draw_boxplot(df.sulfate.iloc[:1005], \"lightblue\", \"blue\", ax[0])\n",
    "draw_boxplot(df.sulfate.iloc[1005:], \"lightblue\", \"blue\", ax[1])\n",
    "ax[0].set_title(\"Upper\")\n",
    "ax[1].set_title(\"Lower\")\n",
    "plt.show()"
   ]
  },
  {
   "cell_type": "markdown",
   "metadata": {},
   "source": [
    "Hipotesis\n",
    "$$ \n",
    "^1H_0: \\mu_1 = \\mu_2 \\\\ \\newline\n",
    "^2H_1: \\mu_1 \\neq \\mu_2 \\\\ \\newline \n",
    "$$ \n",
    "dengan tingkat signifikan\n",
    "$$ ^3\\alpha = 0.05 \\newline $$  \n",
    "dan daerah kritisnya adalah\n",
    "$$ ^4t < -1.96 \\enspace or \\enspace t > 1.96; \\enspace v = \\infty $$ \n",
    "dengan\n",
    "$$ t = \\frac{(\\bar x_1 - \\bar x_2) - d_0}{s_p\\sqrt{1/n_1 + 1/n_2}} $$ \n",
    "dan\n",
    "$$ s_p^2 = \\frac{s_1^2(n_1 -1) + s_2^2(n_2-1)}{n_1+n_2-2} $$"
   ]
  },
  {
   "cell_type": "code",
   "execution_count": 43,
   "metadata": {},
   "outputs": [
    {
     "name": "stdout",
     "output_type": "stream",
     "text": [
      "5.a) T-score = -2.0752690696871983\n",
      "5.b) P-value = 0.0379616043851286\n"
     ]
    }
   ],
   "source": [
    "n = df.shape[0] // 2 \n",
    "upper = df.sulfate.iloc[:n]\n",
    "lower = df.sulfate.iloc[n:]\n",
    "\n",
    "xbar_1 = upper.mean(); xbar_2 = lower.mean()\n",
    "var_1 = upper.var(); var_2 = lower.var()\n",
    "\n",
    "sp = compute_sp(var_1, var_2, n, n) \n",
    "tscore = compute_t_two(xbar_1, xbar_2, 0, sp, n, n)\n",
    "\n",
    "print(\"5.a) T-score =\", tscore)\n",
    "print(\"5.b) P-value =\", 2*st.norm.cdf(tscore))"
   ]
  },
  {
   "cell_type": "markdown",
   "metadata": {},
   "source": [
    "**Kesimpulan**: Karena p-value < 0.05 dan t < -1.96, hipotesis nol ditolak."
   ]
  },
  {
   "cell_type": "markdown",
   "metadata": {},
   "source": [
    "### Bagian B: Data kolom OrganicCarbon dibagi 2 sama rata: bagian awal dan bagian akhir kolom. Benarkah rata-rata bagian awal lebih besar dari pada bagian akhir sebesar 0.15"
   ]
  },
  {
   "cell_type": "code",
   "execution_count": 94,
   "metadata": {},
   "outputs": [
    {
     "data": {
      "image/png": "[encoded data removed]",
      "text/plain": [
       "<Figure size 576x360 with 2 Axes>"
      ]
     },
     "metadata": {},
     "output_type": "display_data"
    }
   ],
   "source": [
    "f, ax = plt.subplots(nrows=1, ncols=2, figsize=(8, 5))\n",
    "draw_boxplot(df.organiccarbon.iloc[:1005], \"lightblue\", \"blue\", ax[0])\n",
    "draw_boxplot(df.organiccarbon.iloc[1005:], \"lightblue\", \"blue\", ax[1])\n",
    "ax[0].set_title(\"Upper\")\n",
    "ax[1].set_title(\"Lower\")\n",
    "plt.show()"
   ]
  },
  {
   "cell_type": "markdown",
   "metadata": {},
   "source": [
    "Hipotesis\n",
    "$$ \n",
    "^1H_0: \\mu_1 - \\mu_2  = 0.15 \\\\ \\newline\n",
    "^2H_1: \\mu_1 - \\mu_2 > 0.15 \\\\ \\newline \n",
    "$$ \n",
    "dengan tingkat signifikan\n",
    "$$ ^3\\alpha = 0.05 \\newline $$  \n",
    "dan daerah kritisnya adalah\n",
    "$$ ^4t > 1.645; \\enspace v = \\infty $$ \n",
    "dengan\n",
    "$$ t = \\frac{(\\bar x_1 - \\bar x_2) - d_0}{s_p\\sqrt{1/n_1 + 1/n_2}} $$ \n",
    "dan\n",
    "$$ s_p^2 = \\frac{s_1^2(n_1 -1) + s_2^2(n_2-1)}{n_1+n_2-2} $$"
   ]
  },
  {
   "cell_type": "code",
   "execution_count": 90,
   "metadata": {},
   "outputs": [
    {
     "name": "stdout",
     "output_type": "stream",
     "text": [
      "5.a) T-score = -2.413145517798807\n",
      "5.b) P-value = 0.9920922480912\n"
     ]
    }
   ],
   "source": [
    "n = df.shape[0] // 2 \n",
    "upper = df.organiccarbon.iloc[:n]\n",
    "lower = df.organiccarbon.iloc[n:]\n",
    "\n",
    "xbar_1 = upper.mean(); xbar_2 = lower.mean()\n",
    "var_1 = upper.var(); var_2 = lower.var()\n",
    "\n",
    "sp = compute_sp(var_1, var_2, n, n) \n",
    "tscore = compute_t_two(xbar_1, xbar_2, 0.15, sp, n, n)\n",
    "\n",
    "print(\"5.a) T-score =\", tscore)\n",
    "print(\"5.b) P-value =\", 1 - st.norm.cdf(tscore))"
   ]
  },
  {
   "cell_type": "markdown",
   "metadata": {},
   "source": [
    "**Kesimpulan**: Karena p-value > 0.05 dan t < 1.645, hipotesis nol tidak ditolak"
   ]
  },
  {
   "cell_type": "markdown",
   "metadata": {},
   "source": [
    "### Bagian C: Rata-rata 100 baris pertama kolom Chloramines sama dengan 100 baris terakhirnya"
   ]
  },
  {
   "cell_type": "code",
   "execution_count": 96,
   "metadata": {},
   "outputs": [
    {
     "data": {
      "image/png": "[encoded data removed]",
      "text/plain": [
       "<Figure size 576x360 with 2 Axes>"
      ]
     },
     "metadata": {},
     "output_type": "display_data"
    }
   ],
   "source": [
    "f, ax = plt.subplots(nrows=1, ncols=2, figsize=(8, 5))\n",
    "draw_boxplot(df.chloramines.iloc[:100], \"lightblue\", \"blue\", ax[0])\n",
    "draw_boxplot(df.chloramines.iloc[df.shape[0] - 100:], \"lightblue\", \"blue\", ax[1])\n",
    "ax[0].set_title(\"Upper\")\n",
    "ax[1].set_title(\"Lower\")\n",
    "plt.show()"
   ]
  },
  {
   "cell_type": "markdown",
   "metadata": {},
   "source": [
    "Hipotesis\n",
    "$$ \n",
    "^1H_0: \\mu_1 = \\mu_2 \\\\ \\newline\n",
    "^2H_1: \\mu_1 \\neq \\mu_2 \\\\ \\newline \n",
    "$$ \n",
    "dengan tingkat signifikan\n",
    "$$ ^3\\alpha = 0.05 \\newline $$  \n",
    "dan daerah kritisnya adalah\n",
    "$$ ^4t < -1.984 \\enspace or \\enspace t > 1.984; \\enspace v = 99 $$ \n",
    "dengan\n",
    "$$ t = \\frac{(\\bar x_1 - \\bar x_2) - d_0}{s_p\\sqrt{1/n_1 + 1/n_2}} $$ \n",
    "dan\n",
    "$$ s_p^2 = \\frac{s_1^2(n_1 -1) + s_2^2(n_2-1)}{n_1+n_2-2} $$"
   ]
  },
  {
   "cell_type": "code",
   "execution_count": 92,
   "metadata": {},
   "outputs": [
    {
     "name": "stdout",
     "output_type": "stream",
     "text": [
      "5.a) T-score = -1.4654206021109755\n",
      "5.b) P-value = 0.1428061999400448\n"
     ]
    }
   ],
   "source": [
    "n = 100\n",
    "upper = df.chloramines.iloc[:n]\n",
    "lower = df.chloramines.iloc[df.shape[0] - n:]\n",
    "\n",
    "xbar_1 = upper.mean(); xbar_2 = lower.mean()\n",
    "var_1 = upper.var(); var_2 = lower.var()\n",
    "\n",
    "sp = compute_sp(var_1, var_2, n, n) \n",
    "tscore = compute_t_two(xbar_1, xbar_2, 0.15, sp, n, n)\n",
    "\n",
    "print(\"5.a) T-score =\", tscore)\n",
    "print(\"5.b) P-value =\", 2*st.norm.cdf(tscore))"
   ]
  },
  {
   "cell_type": "markdown",
   "metadata": {},
   "source": [
    "**Kesimpulan**: Karena p-value > 0.05 dan -1.984 < t < 1.984, hipotesis nol tidak ditolak"
   ]
  },
  {
   "cell_type": "markdown",
   "metadata": {},
   "source": [
    "### Bagian D: Proporsi nilai bagian awal Turbidity yang lebih dari 4, adalah lebih besar daripada proporsi nilai yang sama di bagian akhir Turbidity"
   ]
  },
  {
   "cell_type": "code",
   "execution_count": 97,
   "metadata": {},
   "outputs": [
    {
     "data": {
      "image/png": "[encoded data removed]",
      "text/plain": [
       "<Figure size 576x360 with 2 Axes>"
      ]
     },
     "metadata": {},
     "output_type": "display_data"
    }
   ],
   "source": [
    "f, ax = plt.subplots(nrows=1, ncols=2, figsize=(8, 5))\n",
    "draw_boxplot(df.turbidity.iloc[:1005], \"lightblue\", \"blue\", ax[0])\n",
    "draw_boxplot(df.turbidity.iloc[1005:], \"lightblue\", \"blue\", ax[1])\n",
    "ax[0].set_title(\"Upper\")\n",
    "ax[1].set_title(\"Lower\")\n",
    "plt.show()"
   ]
  },
  {
   "cell_type": "markdown",
   "metadata": {},
   "source": [
    "Hipotesis\n",
    "$$ \n",
    "^1H_0: p_1 = p_2 \\\\ \\newline\n",
    "^2H_1: p_1 > p_2 \\ \\newline \n",
    "$$ \n",
    "dengan tingkat signifikan\n",
    "$$ ^3\\alpha = 0.05 \\newline $$  \n",
    "dan daerah kritisnya adalah\n",
    "$$ ^4z > 1.645 $$ \n",
    "dengan\n",
    "$$ z = \\frac{\\hat p_1 - \\hat p_2}{\\sqrt{\\hat p \\hat q (1/n_1+1/n_2)}} $$"
   ]
  },
  {
   "cell_type": "code",
   "execution_count": 52,
   "metadata": {},
   "outputs": [
    {
     "name": "stdout",
     "output_type": "stream",
     "text": [
      "5.a) Z-score = 25.31766679551068\n",
      "5.b) P-value = 0.0\n"
     ]
    }
   ],
   "source": [
    "n = df.shape[0] // 2\n",
    "x_1 = sum(df.turbidity.iloc[:n].apply(lambda x: 1 if x > 4 else 0))\n",
    "x_2 = sum(df.turbidity.iloc[n:].apply(lambda x: 1 if x == 4 else 0))\n",
    "\n",
    "p_1 = x_1/n; p_2 = x_2/n\n",
    "p = (x_1 + x_2) / (2*n)\n",
    "zscore = (p_1 - p_2)/np.sqrt(p*(1-p)*(1/n+1/n))\n",
    "\n",
    "print(\"5.a) Z-score =\", zscore)\n",
    "print(\"5.b) P-value =\", 2*(1 - st.norm.cdf(zscore)))"
   ]
  },
  {
   "cell_type": "markdown",
   "metadata": {},
   "source": [
    "**Kesimpulan**: Karena p-value < 0.05 dan z > 1.645 , hipotesis nol ditolak."
   ]
  },
  {
   "cell_type": "markdown",
   "metadata": {},
   "source": [
    "### Bagian E: Bagian awal kolom Sulfate memiliki variansi yang sama dengan bagian akhirnya"
   ]
  },
  {
   "cell_type": "code",
   "execution_count": 98,
   "metadata": {},
   "outputs": [
    {
     "data": {
      "image/png": "[encoded data removed]",
      "text/plain": [
       "<Figure size 576x360 with 2 Axes>"
      ]
     },
     "metadata": {},
     "output_type": "display_data"
    }
   ],
   "source": [
    "f, ax = plt.subplots(nrows=1, ncols=2, figsize=(8, 5))\n",
    "draw_boxplot(df.sulfate.iloc[:1005], \"lightblue\", \"blue\", ax[0])\n",
    "draw_boxplot(df.sulfate.iloc[1005:], \"lightblue\", \"blue\", ax[1])\n",
    "ax[0].set_title(\"Upper\")\n",
    "ax[1].set_title(\"Lower\")\n",
    "plt.show()"
   ]
  },
  {
   "cell_type": "markdown",
   "metadata": {},
   "source": [
    "Hipotesis\n",
    "$$ \n",
    "^1H_0: \\sigma_1^2 = \\sigma_2^2 \\\\ \\newline\n",
    "^2H_1: \\sigma_1^2 \\neq \\sigma_2^2 \\ \\newline \n",
    "$$ \n",
    "dengan tingkat signifikan\n",
    "$$ ^3\\alpha = 0.05 \\newline $$  \n",
    "dan daerah kritisnya adalah\n",
    "$$ ^4 f < 0.884 \\enspace or f > 1.132 $$ \n",
    "dengan\n",
    "$$ f = \\frac{s_1^2}{s_2^2} $$"
   ]
  },
  {
   "cell_type": "code",
   "execution_count": 54,
   "metadata": {},
   "outputs": [
    {
     "name": "stdout",
     "output_type": "stream",
     "text": [
      "5.a) F-score = 1.0152511043950063\n",
      "5.b) P-value = 0.4068\n"
     ]
    }
   ],
   "source": [
    "n = df.shape[0] // 2\n",
    "var_1 = df.sulfate.iloc[:n].var()\n",
    "var_2 = df.sulfate.iloc[n:].var()\n",
    "\n",
    "fscore = var_1/var_2\n",
    "\n",
    "print(\"5.a) F-score =\", fscore)\n",
    "print(\"5.b) P-value = 0.4068\") # P = P(F > fscore)"
   ]
  },
  {
   "cell_type": "markdown",
   "metadata": {},
   "source": [
    "**Kesimpulan**: arena 0.884 < f < 1.132, hipotesis nol tidak ditolak"
   ]
  },
  {
   "cell_type": "markdown",
   "metadata": {},
   "source": [
    "## Correlation Test"
   ]
  },
  {
   "cell_type": "markdown",
   "metadata": {},
   "source": [
    "Kolom targetnya diskrit :( gimana dong?"
   ]
  },
  {
   "cell_type": "code",
   "execution_count": 20,
   "metadata": {},
   "outputs": [],
   "source": [
    "# df.corr()[\"potability\"]"
   ]
  }
 ],
 "metadata": {
  "interpreter": {
   "hash": "12614559b287d062107016ba2e5ba226f18e6e48d33e622540160d4dc678e80d"
  },
  "kernelspec": {
   "display_name": "Python 3.9.5 64-bit",
   "language": "python",
   "name": "python3"
  },
  "language_info": {
   "codemirror_mode": {
    "name": "ipython",
    "version": 3
   },
   "file_extension": ".py",
   "mimetype": "text/x-python",
   "name": "python",
   "nbconvert_exporter": "python",
   "pygments_lexer": "ipython3",
   "version": "3.9.5"
  },
  "orig_nbformat": 4
 },
 "nbformat": 4,
 "nbformat_minor": 2
}
